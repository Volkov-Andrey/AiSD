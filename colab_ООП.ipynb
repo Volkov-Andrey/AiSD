{
 "cells": [
  {
   "cell_type": "markdown",
   "id": "a210f1bf",
   "metadata": {},
   "source": [
    "25.6\n",
    "Класс – окружность. Методы – расчет длины окружности и ее площади. Поля класса – координаты центра, радиус, длина, площадь окружности."
   ]
  },
  {
   "cell_type": "code",
   "execution_count": 3,
   "id": "49a39b32",
   "metadata": {
    "scrolled": true
   },
   "outputs": [
    {
     "name": "stdout",
     "output_type": "stream",
     "text": [
      "Длина окружности: 18.84955592153876\n",
      "Площадь окружности: 28.274333882308138\n"
     ]
    }
   ],
   "source": [
    "import math\n",
    "\n",
    "class Circle(object):\n",
    "    def __init__(self, start_x, start_y, radius):\n",
    "        self.start_x = start_x\n",
    "        self.start_y = start_y\n",
    "        self.radius = radius\n",
    "    \n",
    "    def length_of_circle(self):\n",
    "        self.length = 2 * math.pi * self.radius\n",
    "        return f'Длина окружности: {self.length}'\n",
    "    \n",
    "    def square_of_circle(self):\n",
    "        self.square = math.pi * ((self.radius)**2)\n",
    "        return f'Площадь окружности: {self.square}'\n",
    "    \n",
    "    \n",
    "circle_1 = Circle(0,0,3)\n",
    "print(circle_1.length_of_circle())\n",
    "print(circle_1.square_of_circle())"
   ]
  },
  {
   "cell_type": "markdown",
   "id": "f3128cca",
   "metadata": {},
   "source": [
    "26.6 Опишите класс для работы со списком целых чисел размером  n . Включите в описание класса методы ввода элементов списка, вывода списка на экран, нахождения максимального и минимального элементов списка и их индексов, а также свойства, позволяющие: определить, является ли список упорядоченным по убыванию, домножить все элементы списка на скаляр."
   ]
  },
  {
   "cell_type": "code",
   "execution_count": 4,
   "id": "ea837ae7",
   "metadata": {},
   "outputs": [
    {
     "name": "stdout",
     "output_type": "stream",
     "text": [
      "1\n",
      "4\n",
      "7\n",
      "2\n",
      "3\n",
      "Заданный список: [1, 4, 7, 2, 3]\n",
      "{'максимальное число 7', 'под индексом 2'}\n",
      "{'под индексом 0', 'минимальное число 1'}\n",
      "Список не упорядочен по убыванию\n",
      "[5, 20, 35, 10, 15]\n"
     ]
    }
   ],
   "source": [
    "class list_array(object):\n",
    "    def __init__(self, n):\n",
    "        self.array = []\n",
    "        self.n = n\n",
    "    \n",
    "    def input_array(self):\n",
    "        for i in range(self.n):\n",
    "            number = int(input())\n",
    "            self.array.append(number)\n",
    "\n",
    "    def show_array(self):\n",
    "        return self.array\n",
    "    \n",
    "    def find_max(self):\n",
    "        max_number = max(self.array)\n",
    "        max_index = self.array.index(max_number)\n",
    "        return {f'максимальное число {max_number}',f'под индексом {max_index}'}\n",
    "    \n",
    "    def find_min(self):\n",
    "        min_number = min(self.array)\n",
    "        min_index = self.array.index(min_number)\n",
    "        return {f'минимальное число {min_number}',f'под индексом {min_index}'}\n",
    "\n",
    "    def check_down_sorted(self):\n",
    "        if self.array == sorted(self.array)[::-1]:\n",
    "            return 'Список упорядочен по убыванию'\n",
    "        else:\n",
    "            return 'Список не упорядочен по убыванию'\n",
    "    \n",
    "    def multiply_on_scalar(self, scalar):\n",
    "        self.scalar = scalar\n",
    "        return [mosn * self.scalar for mosn in self.array]\n",
    "\n",
    "\n",
    "our_array = list_array(5)\n",
    "our_array.input_array()\n",
    "\n",
    "print(f'Заданный список: {our_array.show_array()}')\n",
    "print(our_array.find_max())\n",
    "print(our_array.find_min())\n",
    "print(our_array.check_down_sorted())\n",
    "print(our_array.multiply_on_scalar(5))"
   ]
  },
  {
   "cell_type": "markdown",
   "id": "e9efe334",
   "metadata": {},
   "source": [
    "27.6 Создайте класс ТЕЛЕФОННЫЙ СПРАВОЧНИК с методами, позволяющими вывести на экран информацию о записях в телефонном справочнике, а также определить соответствие записи критерию поиска. Создайте дочерние классы ПЕРСОНА (фамилия, адрес, номер телефона), ОРГАНИЗАЦИЯ (название, адрес, телефон, факс, контактное лицо), ДРУГ (фамилия, адрес, номер телефона, дата рождения) со своими методами вывода информации на экран и определения соответствия заданной фамилии. Создайте список из  n  записей, выведите полную информацию из базы на экран, а также организуйте поиск в базе по фамилии."
   ]
  },
  {
   "cell_type": "code",
   "execution_count": 5,
   "id": "8fc5eb57",
   "metadata": {},
   "outputs": [
    {
     "name": "stdout",
     "output_type": "stream",
     "text": [
      "Имя: Ilya, Фамилия: Priemyshev, Адрес: Moscow, Телефонный номер: +7-(999)-999-99-99\n",
      "Название организации: Progeek, Адрес: Kazan, Телефонный номер: +7-(999)-999-01-01, Факс: 999-99-99, Контактное лицо: Galiev\n",
      "Имя друга: Mark, Фамилия друга: Ivanov, Адрес друга: Vladimir, Дата рождения друга: 12-04-2001, Телефонный номер друга: +7-(999)-999-88-88\n",
      "None\n",
      "\n",
      "Searching for entries with surname 'Priemyshev':\n",
      "Имя: Ilya, Фамилия: Priemyshev, Адрес: Moscow, Телефонный номер: +7-(999)-999-99-99\n"
     ]
    }
   ],
   "source": [
    "class Phone_list():\n",
    "    def __init__(self):\n",
    "        self.entries = []\n",
    "\n",
    "    def add_info(self, info):\n",
    "        self.entries.append(info)\n",
    "\n",
    "    def show_phone_list(self):\n",
    "        for entry in self.entries:\n",
    "            entry.show_info()\n",
    "\n",
    "    def search_by_lastname(self, surname):\n",
    "        for entry in self.entries:\n",
    "            if isinstance(entry, Person) and entry.surname == surname:\n",
    "                entry.show_info()\n",
    "\n",
    "\n",
    "book = Phone_list()\n",
    "\n",
    "\n",
    "class Person():\n",
    "    def __init__(self, name, surname, address, phone_number):\n",
    "        self.name = name\n",
    "        self.surname = surname\n",
    "        self.address = address\n",
    "        self.phone_number = phone_number\n",
    "\n",
    "    def show_info(self):\n",
    "        print(f'Имя: {self.name}, Фамилия: {self.surname}, Адрес: {self.address}, Телефонный номер: {self.phone_number}')\n",
    "\n",
    "    def match_lastname(self, surname):\n",
    "        return self.surname == surname\n",
    "\n",
    "\n",
    "human = Person('Ilya', 'Priemyshev', 'Moscow', '+7-(999)-999-99-99')\n",
    "\n",
    "\n",
    "class Organization():\n",
    "    def __init__(self, org_name, address, phone_number, fax, contact_person):\n",
    "        self.org_name = org_name\n",
    "        self.address = address\n",
    "        self.phone_number = phone_number\n",
    "        self.fax = fax\n",
    "        self.conact_person = contact_person\n",
    "\n",
    "    def show_info(self):\n",
    "        print(\n",
    "            f'Название организации: {self.org_name}, Адрес: {self.address}, Телефонный номер: {self.phone_number}, Факс: {self.fax}, Контактное лицо: {self.conact_person}')\n",
    "\n",
    "    def match_lastname(self, surtname):\n",
    "        return False\n",
    "\n",
    "\n",
    "company = Organization('Progeek', 'Kazan', '+7-(999)-999-01-01', '999-99-99', 'Galiev')\n",
    "\n",
    "\n",
    "class Friend():\n",
    "    def __init__(self, name, surname, address, date_of_birth, phone_number):\n",
    "        self.name = name\n",
    "        self.surname = surname\n",
    "        self.address = address\n",
    "        self.date_of_birth = date_of_birth\n",
    "        self.phone_number = phone_number\n",
    "\n",
    "    def show_info(self):\n",
    "        print(f'Имя друга: {self.name}, Фамилия друга: {self.surname}, Адрес друга: {self.address}, Дата рождения друга: {self.date_of_birth}, Телефонный номер друга: {self.phone_number}')\n",
    "\n",
    "    def match_lastname(self, surname):\n",
    "        return self.surname == surname\n",
    "\n",
    "\n",
    "buddy = Friend('Andrey', 'Volkov', 'Voskresensk', '18-10-2005', '+7-(999)-999-88-88')\n",
    "\n",
    "book.add_info(human)\n",
    "book.add_info(company)\n",
    "book.add_info(buddy)\n",
    "\n",
    "print(book.show_phone_list())\n",
    "\n",
    "search_surname = \"Priemyshev\"\n",
    "print(f\"\\nSearching for entries with surname '{search_surname}':\")\n",
    "book.search_by_lastname(search_surname)"
   ]
  },
  {
   "cell_type": "code",
   "execution_count": null,
   "id": "9e54fbe9",
   "metadata": {},
   "outputs": [],
   "source": []
  }
 ],
 "metadata": {
  "kernelspec": {
   "display_name": "Python 3 (ipykernel)",
   "language": "python",
   "name": "python3"
  },
  "language_info": {
   "codemirror_mode": {
    "name": "ipython",
    "version": 3
   },
   "file_extension": ".py",
   "mimetype": "text/x-python",
   "name": "python",
   "nbconvert_exporter": "python",
   "pygments_lexer": "ipython3",
   "version": "3.11.5"
  }
 },
 "nbformat": 4,
 "nbformat_minor": 5
}
