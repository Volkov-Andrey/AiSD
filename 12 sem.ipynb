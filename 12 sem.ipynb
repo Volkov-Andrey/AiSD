{
 "cells": [
  {
   "cell_type": "code",
   "execution_count": 7,
   "id": "44eb4c16",
   "metadata": {},
   "outputs": [
    {
     "name": "stdout",
     "output_type": "stream",
     "text": [
      "скобки расставлены верно\n"
     ]
    }
   ],
   "source": [
    "#№1\n",
    "def correct_checking(text):\n",
    "    stack = []\n",
    "    for c in text:\n",
    "        if c == '(':\n",
    "            stack.append(c)\n",
    "        elif c == ')':        \n",
    "            if not stack:\n",
    "                return False  \n",
    "            else:\n",
    "                stack.pop()\n",
    "    return len(stack) == 0\n",
    "\n",
    "text = '((dsasdas((das(d)das)d)asd)da)'\n",
    "if correct_checking(text):\n",
    "    print('скобки расставлены верно')\n",
    "else:\n",
    "    print('скобки расставлены неверно')\n",
    "    "
   ]
  },
  {
   "cell_type": "code",
   "execution_count": 24,
   "id": "d510d1ce",
   "metadata": {},
   "outputs": [
    {
     "name": "stdout",
     "output_type": "stream",
     "text": [
      "элементы - 2, 4, 6\n",
      "Верхний элемент:  6\n",
      "Текущее количество элементов:  3\n",
      "Верхний элемент после pop(): 4\n",
      "Текущее количество элементов после pop(): 2\n"
     ]
    }
   ],
   "source": [
    "#№2\n",
    "class Stack:\n",
    "    def __init__(st, max_size):\n",
    "        st.stack = []\n",
    "        st.max_size = max_size\n",
    "\n",
    "    def push(st, e):\n",
    "        if len(st.stack) < st.max_size:\n",
    "            st.stack.append(e)\n",
    "        else:\n",
    "            raise IndexError(\"Stack overflow\")\n",
    "\n",
    "    def pop(st):\n",
    "        if not st.is_empty():\n",
    "            return st.stack.pop()\n",
    "        else:\n",
    "            raise IndexError(\"Stack underflow\")\n",
    "\n",
    "    def top(st):\n",
    "        if not st.is_empty():\n",
    "            return st.stack[-1]\n",
    "        else:\n",
    "            raise IndexError(\"Stack is empty\")\n",
    "\n",
    "    def is_empty(st):\n",
    "        return len(st.stack) == 0\n",
    "\n",
    "    def __len__(st):\n",
    "        return len(st.stack)\n",
    "    \n",
    "stack = Stack(max_size=3)\n",
    "stack.push(2)\n",
    "stack.push(4)\n",
    "stack.push(6)\n",
    "\n",
    "print('элементы - 2, 4, 6')\n",
    "print('Верхний элемент: ', stack.top())  # Верхний элемент: 6\n",
    "print('Текущее количество элементов: ', len(stack))    # Текущее количество элементов: 3\n",
    "\n",
    "stack.pop()\n",
    "print('Верхний элемент после pop():', stack.top())  # Верхний элемент после pop(): 4\n",
    "print('Текущее количество элементов после pop():', len(stack))    # Текущее количество элементов после pop(): 2\n"
   ]
  },
  {
   "cell_type": "code",
   "execution_count": null,
   "id": "94f08107",
   "metadata": {},
   "outputs": [],
   "source": []
  }
 ],
 "metadata": {
  "kernelspec": {
   "display_name": "Python 3 (ipykernel)",
   "language": "python",
   "name": "python3"
  },
  "language_info": {
   "codemirror_mode": {
    "name": "ipython",
    "version": 3
   },
   "file_extension": ".py",
   "mimetype": "text/x-python",
   "name": "python",
   "nbconvert_exporter": "python",
   "pygments_lexer": "ipython3",
   "version": "3.11.5"
  }
 },
 "nbformat": 4,
 "nbformat_minor": 5
}
