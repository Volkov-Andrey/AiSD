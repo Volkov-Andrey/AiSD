{
 "cells": [
  {
   "cell_type": "markdown",
   "id": "7b40fe93",
   "metadata": {},
   "source": [
    "32. Используя модуль array и библиотеку numpy, решить следующие задачи:\n",
    "а) Дан целочисленный массив размера  N . Найти максимальное количество его одинаковых элементов.\n",
    "б) Дана целочисленная матрица размера  M×N . Найти количество ее столбцов, все элементы которых различны."
   ]
  },
  {
   "cell_type": "code",
   "execution_count": 4,
   "id": "fcf56067",
   "metadata": {},
   "outputs": [
    {
     "name": "stdout",
     "output_type": "stream",
     "text": [
      "[0 4 0 1 2 1 2 4 2 2] 4\n"
     ]
    }
   ],
   "source": [
    "import numpy as np\n",
    "\n",
    "def max_equal_elements(arr):\n",
    "    unique, counts = np.unique(arr, return_counts=True)\n",
    "    max_count = max(counts)\n",
    "    return max_count\n",
    "\n",
    "N = 10\n",
    "arr = np.random.randint(0, 5, N)\n",
    "result = max_equal_elements(arr)\n",
    "print(arr, result)"
   ]
  },
  {
   "cell_type": "code",
   "execution_count": 10,
   "id": "1bbcd253",
   "metadata": {},
   "outputs": [
    {
     "name": "stdout",
     "output_type": "stream",
     "text": [
      "[[8 6 6 1 9]\n",
      " [9 9 5 9 0]\n",
      " [4 0 9 3 1]\n",
      " [4 7 5 1 9]\n",
      " [9 8 7 1 8]] 1\n"
     ]
    }
   ],
   "source": [
    "def count_columns_with_unique_elements(matrix):\n",
    "    num_unique = np.sum([len(set(col)) == matrix.shape[0] for col in matrix.T])\n",
    "    return num_unique\n",
    "\n",
    "M, N = 5, 5\n",
    "matrix = np.random.randint(0, 10, (M, N))\n",
    "result = count_columns_with_unique_elements(matrix)\n",
    "print(matrix, result)"
   ]
  },
  {
   "cell_type": "markdown",
   "id": "ac12317a",
   "metadata": {},
   "source": [
    "33. Дан стек и два элемента  A  и  B . Необходимо удалить из стека все элементы, которые находятся между  A  и  B  (включая сами  A  и  B )."
   ]
  },
  {
   "cell_type": "code",
   "execution_count": 16,
   "id": "afc09e40",
   "metadata": {},
   "outputs": [
    {
     "name": "stdout",
     "output_type": "stream",
     "text": [
      "[1, 6, 7, 8, 9]\n"
     ]
    }
   ],
   "source": [
    "def remove_elements_between(stack, A, B):\n",
    "    if A not in stack or B not in stack:\n",
    "        return \"Один из элементов A или B отсутствует в стеке\"\n",
    "\n",
    "    start_index = stack.index(A)\n",
    "    end_index = stack.index(B)\n",
    "    if start_index > end_index:\n",
    "        start_index, end_index = end_index, start_index\n",
    "\n",
    "    stack = stack[:start_index] + stack[end_index + 1:]\n",
    "    return stack\n",
    "\n",
    "\n",
    "stack = [1, 2, 3, 4, 5, 6, 7, 8, 9]\n",
    "A = 2\n",
    "B = 5\n",
    "new_stack = remove_elements_between(stack, A, B)\n",
    "print(new_stack)"
   ]
  },
  {
   "cell_type": "markdown",
   "id": "ebe3dc3d",
   "metadata": {},
   "source": [
    "34 Создать класс очереди, который будет поддерживать операции добавления элемента в конец очереди, удаления элемента из начала очереди и поиска минимального элемента в очереди."
   ]
  },
  {
   "cell_type": "code",
   "execution_count": 19,
   "id": "d1e10ae1",
   "metadata": {},
   "outputs": [
    {
     "name": "stdout",
     "output_type": "stream",
     "text": [
      "минимальный эл-т в изначальной очереди 1\n",
      "минимальный эл-т после удаления первого эл-та 2\n"
     ]
    }
   ],
   "source": [
    "from collections import deque\n",
    "\n",
    "class MinQueue:\n",
    "    def __init__(self):\n",
    "        self.queue = deque()\n",
    "    \n",
    "    def enqueue(self, item):     # добавление эл-а в конец очереди\n",
    "        self.queue.append(item)\n",
    "    \n",
    "    def dequeue(self):           # удалние эл-а из начала очереди\n",
    "        if not self.queue:\n",
    "            return None\n",
    "        return self.queue.popleft()\n",
    "    \n",
    "    def find_min(self):          # поиск минимального эл-а в очереди\n",
    "        if not self.queue:\n",
    "            return None\n",
    "        return min(self.queue)\n",
    "\n",
    "q = MinQueue()\n",
    "q.enqueue(1)\n",
    "q.enqueue(3)\n",
    "q.enqueue(4)\n",
    "q.enqueue(2)\n",
    "print('минимальный эл-т в изначальной очереди', q.find_min())\n",
    "q.dequeue()  # удалим эл-т из начала очереди\n",
    "print('минимальный эл-т после удаления первого эл-та', q.find_min()) "
   ]
  }
 ],
 "metadata": {
  "kernelspec": {
   "display_name": "Python 3 (ipykernel)",
   "language": "python",
   "name": "python3"
  },
  "language_info": {
   "codemirror_mode": {
    "name": "ipython",
    "version": 3
   },
   "file_extension": ".py",
   "mimetype": "text/x-python",
   "name": "python",
   "nbconvert_exporter": "python",
   "pygments_lexer": "ipython3",
   "version": "3.11.5"
  }
 },
 "nbformat": 4,
 "nbformat_minor": 5
}
