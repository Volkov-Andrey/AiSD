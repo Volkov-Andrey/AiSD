{
 "cells": [
  {
   "cell_type": "code",
   "execution_count": null,
   "id": "e87a2795",
   "metadata": {},
   "outputs": [],
   "source": [
    "#1\n",
    "import re\n",
    "file, lenght = map(str,input('Введите имя файла (полный путь):').split())\n",
    "using_file = open(str(file))\n",
    "oper_file = re.findall(r'\\w+',using_file.read())[:int(lenght)]\n",
    "dict = {oper_file[el]: oper_file.count(oper_file[el]) for el in range(len(oper_file))}\n",
    "ans = sorted(dict.items(), key = lambda item: item[1], reverse = True)\n",
    "\n",
    "print(*ans)"
   ]
  },
  {
   "cell_type": "code",
   "execution_count": null,
   "id": "3cf8f537",
   "metadata": {},
   "outputs": [],
   "source": [
    "#3.1\n",
    "numbers = input('Введите ваши числа:').split()\n",
    "print(sum([int(el) for el in numbers]))"
   ]
  },
  {
   "cell_type": "code",
   "execution_count": null,
   "id": "e3955de9",
   "metadata": {},
   "outputs": [],
   "source": [
    "#3.2\n",
    "def mul(*nums):\n",
    "    ans = 1\n",
    "    for i in nums:\n",
    "        ans*=i\n",
    "    return ans\n",
    "\n",
    "numbers = input('Введите ваши числа:').split()\n",
    "print('Сумма введенных чисел ',sum([int(el) for el in numbers]))\n",
    "print('Произведение введенных чисел ',mul(*[int(el) for el in numbers]))"
   ]
  },
  {
   "cell_type": "code",
   "execution_count": null,
   "id": "69e2f963",
   "metadata": {},
   "outputs": [],
   "source": [
    "#3.3\n",
    "def mul(*nums):\n",
    "    ans = 1\n",
    "    for i in nums:\n",
    "        ans*=i\n",
    "    return ans\n",
    "\n",
    "numbers = input('Введите ваши числа:').split()\n",
    "action = input('Введите тип действия над числами:')\n",
    "if len(action) == 1:\n",
    "    if action == '+':\n",
    "        print('Сумма введенных чисел ',sum([int(el) for el in numbers]))\n",
    "    elif action == '*':\n",
    "        print('Произведение введенных чисел ',mul(*[int(el) for el in numbers]))\n",
    "else:\n",
    "    print('Неверный ввод')"
   ]
  }
 ],
 "metadata": {
  "kernelspec": {
   "display_name": "Python 3 (ipykernel)",
   "language": "python",
   "name": "python3"
  },
  "language_info": {
   "codemirror_mode": {
    "name": "ipython",
    "version": 3
   },
   "file_extension": ".py",
   "mimetype": "text/x-python",
   "name": "python",
   "nbconvert_exporter": "python",
   "pygments_lexer": "ipython3",
   "version": "3.11.5"
  }
 },
 "nbformat": 4,
 "nbformat_minor": 5
}
