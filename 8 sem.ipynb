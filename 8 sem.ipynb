{
 "cells": [
  {
   "cell_type": "code",
   "execution_count": 3,
   "id": "442183ab",
   "metadata": {},
   "outputs": [
    {
     "name": "stdout",
     "output_type": "stream",
     "text": [
      "одиннадцать\n"
     ]
    }
   ],
   "source": [
    "def to_text(n):\n",
    "    units = ['ноль', 'один', 'два', 'три', 'четыре', 'пять', 'шесть', 'семь', 'восемь', 'девять']\n",
    "    teens = ['десять', 'одиннадцать', 'двенадцать', 'тринадцать', 'четырнадцать', 'пятнадцать', 'шестнадцать', 'семнадцать', 'восемнадцать', 'девятнадцать']\n",
    "    tens = ['', 'десять', 'двадцать', 'тридцать', 'сорок', 'пятьдесят', 'шестьдесят', 'семьдесят', 'восемьдесят', 'девяносто']\n",
    "\n",
    "    if n < 10:\n",
    "        return units[n]\n",
    "    elif n < 20:\n",
    "        return teens[n-10]\n",
    "    else:\n",
    "        return tens[n//10] + ('' if n%10 == 0 else ' ' + units[n%10])\n",
    "print(to_text(11))"
   ]
  },
  {
   "cell_type": "code",
   "execution_count": 8,
   "id": "3e86865b",
   "metadata": {},
   "outputs": [
    {
     "name": "stdout",
     "output_type": "stream",
     "text": [
      "107\n"
     ]
    }
   ],
   "source": [
    "def calc(expression):\n",
    "    parts = expression.split()\n",
    "    if len(parts) != 3:\n",
    "        return \"Неверный формат. Используйте формат '<число> <операция> <число>'\"\n",
    "\n",
    "    num1 = int(parts[0])\n",
    "    num2 = int(parts[2])\n",
    "    operator = parts[1]\n",
    "\n",
    "    if operator == '+':\n",
    "        return num1 + num2\n",
    "    elif operator == '-':\n",
    "        return num1 - num2\n",
    "    elif operator == '*':\n",
    "        return num1 * num2\n",
    "    elif operator == '/':\n",
    "        if num2 != 0:\n",
    "            return num1 / num2\n",
    "        else:\n",
    "            return \"Деление на ноль невозможно\"\n",
    "    elif operator == '%':\n",
    "        return num1 % num2\n",
    "    elif operator == '^':\n",
    "        return num1 ** num2\n",
    "    else:\n",
    "        return \"Неверная операция. Используйте одну из: +, -, *, /, %, ^\"\n",
    "def calc(expression):\n",
    "    parts = expression.split()\n",
    "    if len(parts) != 3:\n",
    "        return \"Неверный формат. Используйте формат '<число> <операция> <число>'\"\n",
    "\n",
    "    num1 = int(parts[0])\n",
    "    num2 = int(parts[2])\n",
    "    operator = parts[1]\n",
    "\n",
    "    if operator == '+':\n",
    "        return num1 + num2\n",
    "    elif operator == '-':\n",
    "        return num1 - num2\n",
    "    elif operator == '*':\n",
    "        return num1 * num2\n",
    "    elif operator == '/':\n",
    "        if num2 != 0:\n",
    "            return num1 / num2\n",
    "        else:\n",
    "            return \"Деление на ноль невозможно\"\n",
    "    elif operator == '%':\n",
    "        return num1 % num2\n",
    "    elif operator == '^':\n",
    "        return num1 ** num2\n",
    "    else:\n",
    "        return \"Неверная операция. Используйте одну из: +, -, *, /, %, ^\"\n",
    "print(calc('187 - 80'))"
   ]
  },
  {
   "cell_type": "code",
   "execution_count": 9,
   "id": "193dde08",
   "metadata": {},
   "outputs": [
    {
     "name": "stdout",
     "output_type": "stream",
     "text": [
      "Выберите операцию (+, -, *, /): *\n",
      "Результат: 500\n"
     ]
    }
   ],
   "source": [
    "def add(x, y):\n",
    "    return x + y\n",
    "\n",
    "def subtract(x, y):\n",
    "    return x - y\n",
    "\n",
    "def multiply(x, y):\n",
    "    return x * y\n",
    "\n",
    "def divide(x, y):\n",
    "    if y != 0:\n",
    "        return x / y\n",
    "    else:\n",
    "        return \"Деление на ноль!\"\n",
    "    \n",
    "num1 = 10\n",
    "num2 = 50\n",
    "operation = input(\"Выберите операцию (+, -, *, /): \")\n",
    "\n",
    "if operation == '+':\n",
    "    result = add(num1, num2)\n",
    "elif operation == '-':\n",
    "    result = subtract(num1, num2)\n",
    "elif operation == '*':\n",
    "    result = multiply(num1, num2)\n",
    "elif operation == '/':\n",
    "    result = divide(num1, num2)\n",
    "else:\n",
    "    result = \"Неверная операция!\"\n",
    "\n",
    "print(\"Результат:\", result)"
   ]
  },
  {
   "cell_type": "code",
   "execution_count": null,
   "id": "3e0ea981",
   "metadata": {},
   "outputs": [],
   "source": []
  }
 ],
 "metadata": {
  "kernelspec": {
   "display_name": "Python 3 (ipykernel)",
   "language": "python",
   "name": "python3"
  },
  "language_info": {
   "codemirror_mode": {
    "name": "ipython",
    "version": 3
   },
   "file_extension": ".py",
   "mimetype": "text/x-python",
   "name": "python",
   "nbconvert_exporter": "python",
   "pygments_lexer": "ipython3",
   "version": "3.11.5"
  }
 },
 "nbformat": 4,
 "nbformat_minor": 5
}
