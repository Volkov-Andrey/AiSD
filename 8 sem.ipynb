{
 "cells": [
  {
   "cell_type": "code",
   "execution_count": 1,
   "id": "8d9af038",
   "metadata": {},
   "outputs": [
    {
     "name": "stdout",
     "output_type": "stream",
     "text": [
      "[1, 3, 3, 2, 1, 3]\n"
     ]
    }
   ],
   "source": [
    "#№1\n",
    "l1 = ['1', '123', '123', '12', '1', '123']\n",
    "print([len(e) for e in l1])"
   ]
  },
  {
   "cell_type": "code",
   "execution_count": null,
   "id": "d9a17488",
   "metadata": {},
   "outputs": [],
   "source": [
    "#№2\n",
    "l1 = ['1', '123', '123', '12', '1', '123']\n",
    "print(len([e for e in l1 if len(e)>2]))"
   ]
  },
  {
   "cell_type": "code",
   "execution_count": null,
   "id": "3c56df12",
   "metadata": {},
   "outputs": [],
   "source": [
    "#№3\n",
    "l2 = [2, 4, -2, -3, 0 , 11 , 3, -1]\n",
    "print([l2[i] * (i+1) for i in range(len(l2))])"
   ]
  },
  {
   "cell_type": "code",
   "execution_count": null,
   "id": "0172865e",
   "metadata": {},
   "outputs": [],
   "source": [
    "#№4\n",
    "l2 = [2, 4, -2, -3, 0 , 11 , 3, -1]\n",
    "print([e for e in l2 if e>0])"
   ]
  },
  {
   "cell_type": "code",
   "execution_count": null,
   "id": "88fc42cd",
   "metadata": {},
   "outputs": [],
   "source": [
    "#№5\n",
    "l2 = [2, 4, -2, -3, 0 , 11 , 3, -1]\n",
    "print([l2[e] if l2[e]>0 else e+1 for e in range(len(l2))])"
   ]
  },
  {
   "cell_type": "code",
   "execution_count": null,
   "id": "fc5f9c41",
   "metadata": {},
   "outputs": [],
   "source": [
    "#№6\n",
    "l = 'abcd'\n",
    "print({l[e] : e+1 for e in range(len(l))})"
   ]
  },
  {
   "cell_type": "code",
   "execution_count": null,
   "id": "caf763b9",
   "metadata": {},
   "outputs": [],
   "source": [
    "#№7\n",
    "l1 = ['1', '123', '123', '12', '1', '123']\n",
    "d1={'12': 1, '22': 2, '1': 3,'2':5}\n",
    "print(len(list([e for e in l1 if e in d1])))"
   ]
  },
  {
   "cell_type": "code",
   "execution_count": null,
   "id": "07c4bbf6",
   "metadata": {},
   "outputs": [],
   "source": [
    "#№8\n",
    "l = 'evgen_o'\n",
    "print({l[e]: l.count(l[e]) for e in range(len(l))})"
   ]
  },
  {
   "cell_type": "code",
   "execution_count": null,
   "id": "da768f67",
   "metadata": {},
   "outputs": [],
   "source": [
    "#№9\n",
    "dict = {'e': 2, 'v': 1, 'g': 1, 'n': 1, '_': 1, 'o': 1}\n",
    "print(len([e for e in dict if e.islower()]))"
   ]
  },
  {
   "cell_type": "code",
   "execution_count": null,
   "id": "445de6c5",
   "metadata": {},
   "outputs": [],
   "source": [
    "#№10\n",
    "d4 = {1: 10, 2: 20, 3: 30, 4: 40, 5: 50, 6: 60}\n",
    "print([e * d4.get(e) for e in d4])"
   ]
  },
  {
   "cell_type": "code",
   "execution_count": null,
   "id": "fba9c0e8",
   "metadata": {},
   "outputs": [],
   "source": [
    "#№11\n",
    "d5 = {'a': 3, 'b': 4, 'c': 5, 'd': 6, 'e': 7, 'f': 8, 'g': 9}\n",
    "d6 = {'e': 20, 'f': 21, 'g': 22, 'h': 23, 'i': 24, 'j': 25, 'k': 26, 'l': 27}\n",
    "print({e: d6.get(e) for e in d6 if e not in d5})"
   ]
  },
  {
   "cell_type": "code",
   "execution_count": 2,
   "id": "3a356e20",
   "metadata": {},
   "outputs": [
    {
     "name": "stdout",
     "output_type": "stream",
     "text": [
      "{'a': 3, 'b': 4, 'c': 5, 'd': 6, 'e': 7, 'f': 8, 'g': 9, 'h': 23, 'i': 24, 'j': 25, 'k': 26, 'l': 27}\n"
     ]
    }
   ],
   "source": [
    "#№12\n",
    "d5 = {'a': 3, 'b': 4, 'c': 5, 'd': 6, 'e': 7, 'f': 8, 'g': 9}\n",
    "d6 = {'e': 20, 'f': 21, 'g': 22, 'h': 23, 'i': 24, 'j': 25, 'k': 26, 'l': 27}\n",
    "print(d5|{e: d6.get(e) for e in d6 if e not in d5})"
   ]
  }
 ],
 "metadata": {
  "kernelspec": {
   "display_name": "Python 3 (ipykernel)",
   "language": "python",
   "name": "python3"
  },
  "language_info": {
   "codemirror_mode": {
    "name": "ipython",
    "version": 3
   },
   "file_extension": ".py",
   "mimetype": "text/x-python",
   "name": "python",
   "nbconvert_exporter": "python",
   "pygments_lexer": "ipython3",
   "version": "3.10.9"
  }
 },
 "nbformat": 4,
 "nbformat_minor": 5
}
