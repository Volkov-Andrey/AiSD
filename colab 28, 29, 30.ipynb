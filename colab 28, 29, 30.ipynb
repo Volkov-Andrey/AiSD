{
 "cells": [
  {
   "cell_type": "markdown",
   "id": "88be1cb0",
   "metadata": {},
   "source": [
    "\n",
    "28. а) Возвести в квадрат и куб каждое число в заданном списке целых чисел с помощью лямбда-функции.\n",
    "\n",
    "б) Умножьте каждое число заданного списка на заданное число, при это используйте лямбда-функцию.\n",
    "\n",
    "в) Используйте лямбда-функцию для извлечения  n -го элемента кортежа из заданного списка кортежей. Пример: дан список кортежей [('Greyson Fulton', 98, 99), ('Brady Kent', 97, 96), ('Wyatt Knott', 91, 94), ('Beau Turnbull', 94, 98)], при n = 0 → ['Greyson Fulton', 'Brady Kent', 'Wyatt Knott', 'Beau Turnbull'], при n = 2 → [99, 96, 94, 98]."
   ]
  },
  {
   "cell_type": "code",
   "execution_count": 2,
   "id": "26e8978f",
   "metadata": {},
   "outputs": [
    {
     "name": "stdout",
     "output_type": "stream",
     "text": [
      "[0, 4, 16, 36, 64] [0, 8, 64, 216, 512]\n"
     ]
    }
   ],
   "source": [
    "# a)\n",
    "\n",
    "digitials = [0, 2, 4, 6, 8]\n",
    "\n",
    "sq_digitials = list(map(lambda x: x ** 2, digitials))\n",
    "cb_digitials = list(map(lambda x: x ** 3, digitials))\n",
    "\n",
    "print(sq_digitials, cb_digitials)"
   ]
  },
  {
   "cell_type": "code",
   "execution_count": 2,
   "id": "4ceeb641",
   "metadata": {},
   "outputs": [
    {
     "name": "stdout",
     "output_type": "stream",
     "text": [
      "[300, 400, 500, 700, 900]\n"
     ]
    }
   ],
   "source": [
    "# б)\n",
    "\n",
    "numbers = [3, 4, 5, 7, 9]\n",
    "mult = 100\n",
    "\n",
    "mu_numbers = list(map(lambda x: x * mult, numbers))\n",
    "print(mu_numbers)"
   ]
  },
  {
   "cell_type": "code",
   "execution_count": 3,
   "id": "817cae58",
   "metadata": {},
   "outputs": [
    {
     "name": "stdout",
     "output_type": "stream",
     "text": [
      "['Greyson Fulton', 'Brady Kent', 'Wyatt Knott', 'Beau Turnbull']\n"
     ]
    }
   ],
   "source": [
    "# в)\n",
    "\n",
    "info = [('Greyson Fulton', 98, 99), ('Brady Kent', 97, 96), ('Wyatt Knott', 91, 94), ('Beau Turnbull', 94, 98)]\n",
    "n = 0\n",
    "\n",
    "element = list(map(lambda x: x[n], info))\n",
    "print(element)"
   ]
  },
  {
   "cell_type": "markdown",
   "id": "0be170b5",
   "metadata": {},
   "source": [
    "_______________________________________________________________________________________________________\n",
    "29.\n",
    "а) С использованием функции map() создайте список, содержащий заданные числа, возведенные в соответствующую степень. Пример: bases = [10, 20, 30, 40, 50, 60, 70, 80, 90, 100], exponents = [1, 2, 3, 4, 5, 6, 7, 8, 9, 10] → result = [10, 400, 27000, 2560000, 312500000, 46656000000, 8235430000000, 1677721600000000, 387420489000000000, 100000000000000000000].   \n",
    "\n",
    "б) Сгенерировать список целых чисел. С помощью функции filter() выбрать из списка все числа больше 10 и упорядочить их по возрастанию. Используя функцию reduce(), найти их сумму."
   ]
  },
  {
   "cell_type": "code",
   "execution_count": 4,
   "id": "291e3081",
   "metadata": {},
   "outputs": [
    {
     "name": "stdout",
     "output_type": "stream",
     "text": [
      "[10, 400, 27000, 2560000, 312500000, 46656000000, 8235430000000, 1677721600000000, 4304672100000000, 100000000000000000000]\n"
     ]
    }
   ],
   "source": [
    "# a)\n",
    "\n",
    "bases = [10, 20, 30, 40, 50, 60, 70, 80, 90, 100]\n",
    "exponents = [1, 2, 3, 4, 5, 6, 7, 8, 8, 10]\n",
    "\n",
    "result = list(map(lambda x, y: x ** y, bases, exponents))\n",
    "print(result)\n"
   ]
  },
  {
   "cell_type": "code",
   "execution_count": 1,
   "id": "2fa1e37a",
   "metadata": {},
   "outputs": [
    {
     "name": "stdout",
     "output_type": "stream",
     "text": [
      "Все числа, большие 10, упорядоченные по возрастанию: [12, 13, 14, 15, 16, 17, 17, 18, 19, 20, 20, 21, 22, 23, 24, 27, 29]\n",
      "Сумма этих чисел: 327\n"
     ]
    }
   ],
   "source": [
    "# б)\n",
    "\n",
    "import random\n",
    "from functools import reduce\n",
    "\n",
    "digs = [random.randint(1, 30) for n in range(30)]\n",
    "\n",
    "filt_digs = list(filter(lambda x: x > 10, digs))\n",
    "filt_digs.sort()\n",
    "print('Все числа, большие 10, упорядоченные по возрастанию:', filt_digs)\n",
    "\n",
    "sum_digs = reduce(lambda x, y: x + y, filt_digs)\n",
    "print('Сумма этих чисел:', sum_digs)\n"
   ]
  },
  {
   "cell_type": "markdown",
   "id": "c9bd08dd",
   "metadata": {},
   "source": [
    "_____________________________________________________________________________________________________________\n",
    "30. а) Создайте декоратор, который будет выводить на экран статистику вызовов функции и сохранять ее в текстовый файл.\n",
    "\n",
    "б) Создайте декоратор, который будет принимать несколько аргументов и передавать их в функцию в качестве позиционных параметров и ключевых параметров с заданными значениями по умолчанию."
   ]
  },
  {
   "cell_type": "code",
   "execution_count": 6,
   "id": "5cb2384d",
   "metadata": {},
   "outputs": [
    {
     "name": "stdout",
     "output_type": "stream",
     "text": [
      "Функция exmp_func была вызвана\n"
     ]
    },
    {
     "data": {
      "text/plain": [
       "100"
      ]
     },
     "execution_count": 6,
     "metadata": {},
     "output_type": "execute_result"
    }
   ],
   "source": [
    "# a)\n",
    "def stats_decorator(func):\n",
    "    def wrapper(*args, **kwargs):\n",
    "        # запись стастики вызовов\n",
    "        print(f\"Функция {func.__name__} была вызвана\")\n",
    "        # сохранение статистики\n",
    "        with open('stats.txt', 'a') as file:\n",
    "            file.write(f\"Функция {func.__name__} была вызвана\\n\")\n",
    "        return func(*args, **kwargs)\n",
    "    return wrapper\n",
    "\n",
    "@stats_decorator\n",
    "def exmp_func(x):\n",
    "    return x**2\n",
    "\n",
    "exmp_func(10)"
   ]
  },
  {
   "cell_type": "code",
   "execution_count": 1,
   "id": "00cf613f",
   "metadata": {},
   "outputs": [
    {
     "name": "stdout",
     "output_type": "stream",
     "text": [
      "Positional arguments: w, x\n",
      "Keyword arguments:\n",
      "key1: y\n",
      "key2: z\n",
      "Функция получила args и kwargs\n"
     ]
    }
   ],
   "source": [
    "# б)\n",
    "\n",
    "def decorator(arg1, arg2):\n",
    "    def in_decorator(func):\n",
    "        def wrapper(*args, **kwargs):\n",
    "            print(f'Positional arguments: {arg1}, {arg2}')\n",
    "            print('Keyword arguments:')\n",
    "            for key, value in kwargs.items():\n",
    "                print(f'{key}: {value}')\n",
    "            return func(*args, **kwargs)\n",
    "        return wrapper\n",
    "    return in_decorator\n",
    "\n",
    "@decorator('w', 'x')\n",
    "def example_func(*args, **kwargs):\n",
    "    print(\"Функция получила args и kwargs\")\n",
    "\n",
    "example_func(key1='y', key2 = 'z')"
   ]
  }
 ],
 "metadata": {
  "kernelspec": {
   "display_name": "Python 3 (ipykernel)",
   "language": "python",
   "name": "python3"
  },
  "language_info": {
   "codemirror_mode": {
    "name": "ipython",
    "version": 3
   },
   "file_extension": ".py",
   "mimetype": "text/x-python",
   "name": "python",
   "nbconvert_exporter": "python",
   "pygments_lexer": "ipython3",
   "version": "3.11.5"
  }
 },
 "nbformat": 4,
 "nbformat_minor": 5
}
