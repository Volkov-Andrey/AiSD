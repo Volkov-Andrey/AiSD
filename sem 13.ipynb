{
 "cells": [
  {
   "cell_type": "code",
   "execution_count": 11,
   "id": "f57dece1",
   "metadata": {},
   "outputs": [
    {
     "name": "stdout",
     "output_type": "stream",
     "text": [
      "[1, 2]\n",
      "[2]\n",
      "3\n",
      "1\n"
     ]
    }
   ],
   "source": [
    "class DyArr:\n",
    "    def __init__(self):\n",
    "        self.array = []\n",
    "    \n",
    "    def append(self, e):\n",
    "        self.array.append(e)\n",
    "    \n",
    "    def get(self, index):\n",
    "        if 0 <= index < len(self.array):\n",
    "            return self.array[index]\n",
    "        else:\n",
    "            raise IndexError(\"Index out of range\")\n",
    "    \n",
    "    def set(self, index, value):\n",
    "        if 0 <= index < len(self.array):\n",
    "            self.array[index] = value\n",
    "        else:\n",
    "            raise IndexError(\"Index out of range\")\n",
    "    \n",
    "    def length(self):\n",
    "        return len(self.array)\n",
    "    \n",
    "    def remove(self, index):\n",
    "        if 0 <= index < len(self.array):\n",
    "            self.array.pop(index)\n",
    "        else:\n",
    "            raise IndexError(\"Index out of range\")\n",
    "    \n",
    "    def __str__(self):\n",
    "        return str(self.array)\n",
    "\n",
    "# Пример использования\n",
    "arr = DyArr()\n",
    "arr.append(1)\n",
    "arr.append(2)\n",
    "print(arr)  # [1, 2]\n",
    "arr.remove(0)\n",
    "print(arr)  # [2]\n",
    "arr.set(0, 3)  #меняется значение элемента с индексом 0 на значение 3\n",
    "print(arr.get(0))  # 3\n",
    "print(arr.length())  # 1"
   ]
  },
  {
   "cell_type": "code",
   "execution_count": null,
   "id": "d503856e",
   "metadata": {},
   "outputs": [],
   "source": []
  }
 ],
 "metadata": {
  "kernelspec": {
   "display_name": "Python 3 (ipykernel)",
   "language": "python",
   "name": "python3"
  },
  "language_info": {
   "codemirror_mode": {
    "name": "ipython",
    "version": 3
   },
   "file_extension": ".py",
   "mimetype": "text/x-python",
   "name": "python",
   "nbconvert_exporter": "python",
   "pygments_lexer": "ipython3",
   "version": "3.11.5"
  }
 },
 "nbformat": 4,
 "nbformat_minor": 5
}
